{
 "cells": [
  {
   "cell_type": "markdown",
   "metadata": {},
   "source": [
    "# Pytorch Tutorial"
   ]
  },
  {
   "cell_type": "markdown",
   "metadata": {},
   "source": [
    "Pytorch is a popular deep learning framework and it's easy to get started."
   ]
  },
  {
   "cell_type": "code",
   "execution_count": null,
   "metadata": {
    "collapsed": true
   },
   "outputs": [],
   "source": [
    "import torch\n",
    "import torch.nn as nn\n",
    "import torch.utils.data as data\n",
    "import torchvision\n",
    "import torchvision.transforms as transforms\n",
    "from tqdm import tqdm\n",
    "import time\n",
    "\n",
    "BATCH_SIZE = 128\n",
    "NUM_EPOCHS = 10"
   ]
  },
  {
   "cell_type": "markdown",
   "metadata": {},
   "source": [
    "First, we read the mnist data, preprocess them and encapsulate them into dataloader form."
   ]
  },
  {
   "cell_type": "code",
   "execution_count": null,
   "metadata": {
    "collapsed": true
   },
   "outputs": [],
   "source": [
    "# preprocessing\n",
    "normalize = transforms.Normalize(mean=[.5], std=[.5])\n",
    "transform = transforms.Compose([transforms.ToTensor(), normalize])\n",
    "\n",
    "# download and load the data\n",
    "train_dataset = torchvision.datasets.MNIST(root='./mnist/', train=True, transform=transform, download=True)\n",
    "test_dataset = torchvision.datasets.MNIST(root='./mnist/', train=False, transform=transform, download=False)\n",
    "\n",
    "# encapsulate them into dataloader form\n",
    "train_loader = data.DataLoader(train_dataset, batch_size=BATCH_SIZE, shuffle=True, drop_last=True)\n",
    "test_loader = data.DataLoader(test_dataset, batch_size=BATCH_SIZE, shuffle=False, drop_last=True)"
   ]
  },
  {
   "cell_type": "markdown",
   "metadata": {},
   "source": [
    "Then, we define the model, object function and optimizer that we use to classify."
   ]
  },
  {
   "cell_type": "code",
   "execution_count": null,
   "metadata": {
    "collapsed": true
   },
   "outputs": [],
   "source": [
    "class SimpleNet(nn.Module):\n",
    "# TODO:define model\n",
    "def __init__(self, in_dim, n_hidden_1, n_hidden_2, out_dim):\n",
		  "     super(SimpleNet, self).__init__()\n",
		  "     self.layer1 = nn.Sequential(\n",
		  "           nn.Linear(in_dim, n_hidden_1),\n",
		  "           nn.BatchNorm1d(n_hidden_1), nn.ReLU(True))\n",
		  "     self.layer2 = nn.Sequential(\n",
		  "           nn.Linear(n_hidden_1, n_hidden_2),\n",
		  "           nn.BatchNorm1d(n_hidden_2), nn.ReLU(True))\n",
		  "     self.layer3 = nn.Sequential(nn.Linear(n_hidden_2, out_dim))\n",
	  "def forward(self, x):\n",
		 "      x = self.layer1(x)\n",
		 "      x = self.layer2(x)\n",
		 "      x = self.layer3(x)\n",
	  "return x\n",
    "    \n",
    "model = SimpleNet(28*28,300,100,10)\n",
    "\n",
    "# TODO:define loss function and optimiter\n",
    "criterion = nn.CrossEntropyLoss()\n",
    "optimizer = optim.SGD(model.parameters(),lr=learning_rate)"
   ]
  },
  {
   "cell_type": "markdown",
   "metadata": {},
   "source": [
    "Next, we can start to train and evaluate!"
   ]
  },
  {
   "cell_type": "code",
   "execution_count": null,
   "metadata": {
    "collapsed": true,
    "scrolled": true
   },
   "outputs": [],
   "source": [
    "# train and evaluate\n",
    "for epoch in range(NUM_EPOCHS):\n",
    "    running_loss=0.0:\n",
    "    for images, labels in tqdm(train_loader):\n",
    "        # TODO:forward + backward + optimize\n",
    "        images=images.view(images.size(0),-1)\n",
		  "        images=Variable(images)\n",
		  "        labels=Variable(labels)\n",
		  "        out=model(images)\n",
		  "        loss=criterion(out,labels)\n",
		  "        print_loss=loss.data.item()\n",
		  "        optimizer.zero_grad()\n",
		  "        loss.backward()\n",
		  "        optimizer.step()\n",
		  "        running_loss+=loss.item()\n",
		  "        epoch+=1\n",
		  "        if epoch%50==0:\n",
		  "        	print('epoch:{},loss:{:.4f}'.format(epoch,loss.data.item()))\n",
		  "        images=Variable(images)\n",
		  "        labels=Variable(labels)\n",
		  "        out=model(images)\n",
		  "        loss=criterion(out,labels)\n",
		  "        print_loss=loss.data.item()\n",
		  "        optimizer.zero_grad()\n",
		  "        loss.backward()\n",
		  "        optimizer.step()\n",
		  "        running_loss+=loss.item()\n",
		  "        epoch+=1\n",
		  "        if epoch%50==0:\n",
	          "            print('epoch:{},loss:{:.4f}'.format(epoch,loss.data.item()))\n",
    "        \n",
    "    # evaluate\n",
    "    # TODO:calculate the accuracy using traning and testing dataset\n",
    "    # for test_dataset\n",
    "    model.eval()\n",
    "    eval_loss=0\n",
    "    eval_acc=0\n",
    "    for images, labels in tqdm(test_loader):\n",
    "    	images=images.view(images.size(0),-1)\n",
    "    	images=Variable(images,volatile=True)\n",
    "    	labels=Variable(labels,volatile=True)\n",
    "    	out=model(images)\n",
    "    	loss=criterion(out,labels)\n",
    "    	eval_loss+=loss.item()*labels.size(0)\n",
    "    	_,pred=torch.max(out,1)\n",
    "    	num_correct=(pred==labels).sum()\n",
    "    	eval_acc+=num_correct.item()\n",
    "    	\n",
    "    test_accuracy=eval_acc/(len(test_dataset))\n",
    "    \n",
    "    # for train_dataset\n",
    "    eval_loss=0\n",
    "    eval_acc=0\n",
    "    for images, labels in tqdm(train_loader):\n",
    "    	images=images.view(images.size(0),-1)\n",
    "    	images=Variable(images,volatile=True)\n",
    "    	labels=Variable(labels,volatile=True)\n",
    "    	out=model(images)\n",
    "    	loss=criterion(out,labels)\n",
    "    	eval_loss+=loss.item()*labels.size(0)\n",
    "    	_,pred=torch.max(out,1)\n",
    "    num_correct=(pred==labels).sum()\n",
    "    	eval_acc+=num_correct.item()\n",
    "    \n",	
    "    training_accuracy=eval_acc/(len(train_dataset))\n",
    "    \n",
   ]
  },
  {
   "cell_type": "markdown",
   "metadata": {},
   "source": [
    "#### Q5:\n",
    "Please print the training and testing accuracy."
   ]
  }
 ],
 "metadata": {
  "kernelspec": {
   "display_name": "Python [default]",
   "language": "python",
   "name": "python3"
  },
  "language_info": {
   "codemirror_mode": {
    "name": "ipython",
    "version": 3
   },
   "file_extension": ".py",
   "mimetype": "text/x-python",
   "name": "python",
   "nbconvert_exporter": "python",
   "pygments_lexer": "ipython3",
   "version": "3.6.3"
  }
 },
 "nbformat": 4,
 "nbformat_minor": 2
}
